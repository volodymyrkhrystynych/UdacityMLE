{
 "cells": [
  {
   "cell_type": "markdown",
   "metadata": {},
   "source": [
    "# Neural networks with PyTorch\n",
    "\n",
    "Deep learning networks tend to be massive with dozens or hundreds of layers, that's where the term \"deep\" comes from. You can build one of these deep networks using only weight matrices as we did in the previous notebook, but in general it's very cumbersome and difficult to implement. PyTorch has a nice module `nn` that provides a nice way to efficiently build large neural networks."
   ]
  },
  {
   "cell_type": "code",
   "execution_count": 8,
   "metadata": {},
   "outputs": [],
   "source": [
    "# Import necessary packages\n",
    "\n",
    "%matplotlib inline\n",
    "%config InlineBackend.figure_format = 'retina'\n",
    "\n",
    "import numpy as np\n",
    "import torch\n",
    "import torch.nn as nn\n",
    "\n",
    "import helper\n",
    "\n",
    "import matplotlib.pyplot as plt"
   ]
  },
  {
   "cell_type": "markdown",
   "metadata": {},
   "source": [
    "\n",
    "Now we're going to build a larger network that can solve a (formerly) difficult problem, identifying text in an image. Here we'll use the MNIST dataset which consists of greyscale handwritten digits. Each image is 28x28 pixels, you can see a sample below\n",
    "\n",
    "<img src='assets/mnist.png'>\n",
    "\n",
    "Our goal is to build a neural network that can take one of these images and predict the digit in the image.\n",
    "\n",
    "First up, we need to get our dataset. This is provided through the `torchvision` package. The code below will download the MNIST dataset, then create training and test datasets for us. Don't worry too much about the details here, you'll learn more about this later."
   ]
  },
  {
   "cell_type": "code",
   "execution_count": 5,
   "metadata": {},
   "outputs": [],
   "source": [
    "### Run this cell\n",
    "\n",
    "from torchvision import datasets, transforms\n",
    "\n",
    "# Define a transform to normalize the data\n",
    "transform = transforms.Compose([transforms.ToTensor(),\n",
    "                              transforms.Normalize((0.5,), (0.5,)),\n",
    "                              ])\n",
    "\n",
    "# Download and load the training data\n",
    "trainset = datasets.MNIST('~/.pytorch/MNIST_data/', download=True, train=True, transform=transform)\n",
    "trainloader = torch.utils.data.DataLoader(trainset, batch_size=64, shuffle=True)"
   ]
  },
  {
   "cell_type": "markdown",
   "metadata": {},
   "source": [
    "We have the training data loaded into `trainloader` and we make that an iterator with `iter(trainloader)`. Later, we'll use this to loop through the dataset for training, like\n",
    "\n",
    "```python\n",
    "for image, label in trainloader:\n",
    "    ## do things with images and labels\n",
    "```\n",
    "\n",
    "You'll notice I created the `trainloader` with a batch size of 64, and `shuffle=True`. The batch size is the number of images we get in one iteration from the data loader and pass through our network, often called a *batch*. And `shuffle=True` tells it to shuffle the dataset every time we start going through the data loader again. But here I'm just grabbing the first batch so we can check out the data. We can see below that `images` is just a tensor with size `(64, 1, 28, 28)`. So, 64 images per batch, 1 color channel, and 28x28 images."
   ]
  },
  {
   "cell_type": "code",
   "execution_count": 6,
   "metadata": {},
   "outputs": [
    {
     "name": "stdout",
     "output_type": "stream",
     "text": [
      "<class 'torch.Tensor'>\n",
      "torch.Size([64, 1, 28, 28])\n",
      "torch.Size([64])\n"
     ]
    }
   ],
   "source": [
    "dataiter = iter(trainloader)\n",
    "images, labels = dataiter.next()\n",
    "print(type(images))\n",
    "print(images.shape)\n",
    "print(labels.shape)"
   ]
  },
  {
   "cell_type": "markdown",
   "metadata": {},
   "source": [
    "This is what one of the images looks like. "
   ]
  },
  {
   "cell_type": "code",
   "execution_count": 7,
   "metadata": {},
   "outputs": [
    {
     "data": {
      "image/png": "[encoded data removed]",
      "text/plain": [
       "<Figure size 432x288 with 1 Axes>"
      ]
     },
     "metadata": {
      "image/png": {
       "height": 250,
       "width": 253
      },
      "needs_background": "light"
     },
     "output_type": "display_data"
    }
   ],
   "source": [
    "plt.imshow(images[1].numpy().squeeze(), cmap='Greys_r');"
   ]
  },
  {
   "cell_type": "markdown",
   "metadata": {},
   "source": [
    "First, let's try to build a simple network for this dataset using weight matrices and matrix multiplications. Then, we'll see how to do it using PyTorch's `nn` module which provides a much more convenient and powerful method for defining network architectures.\n",
    "\n",
    "The networks you've seen so far are called *fully-connected* or *dense* networks. Each unit in one layer is connected to each unit in the next layer. In fully-connected networks, the input to each layer must be a one-dimensional vector (which can be stacked into a 2D tensor as a batch of multiple examples). However, our images are 28x28 2D tensors, so we need to convert them into 1D vectors. Thinking about sizes, we need to convert the batch of images with shape `(64, 1, 28, 28)` to a have a shape of `(64, 784)`, 784 is 28 times 28. This is typically called *flattening*, we flattened the 2D images into 1D vectors.\n",
    "\n",
    "Previously you built a network with one output unit. Here we need 10 output units, one for each digit. We want our network to predict the digit shown in an image, so what we'll do is calculate probabilities that the image is of any one digit or class. This ends up being a discrete probability distribution over the classes (digits) that tells us the most likely class for the image. That means we need 10 output units for the 10 classes (digits). We'll see how to convert the network output into a probability distribution next.\n",
    "\n",
    "> **Exercise:** Flatten the batch of images `images`. Then build a multi-layer network with 784 input units, 256 hidden units, and 10 output units using random tensors for the weights and biases. For now, use a sigmoid activation for the hidden layer. Leave the output layer without an activation, we'll add one that gives us a probability distribution next."
   ]
  },
  {
   "cell_type": "code",
   "execution_count": 14,
   "metadata": {},
   "outputs": [
    {
     "data": {
      "text/plain": [
       "(torch.Size([64, 1, 28, 28]), torch.Size([64]))"
      ]
     },
     "execution_count": 14,
     "metadata": {},
     "output_type": "execute_result"
    }
   ],
   "source": [
    "a = 0\n",
    "b = 0\n",
    "for image, label in trainloader:\n",
    "    a = image.size()\n",
    "    b = label.size()\n",
    "    break\n",
    "    \n",
    "a, b"
   ]
  },
  {
   "cell_type": "code",
   "execution_count": 30,
   "metadata": {},
   "outputs": [
    {
     "name": "stdout",
     "output_type": "stream",
     "text": [
      "torch.Size([64, 10])\n",
      "tensor([[0.4959, 0.6068, 0.5662, 0.4211, 0.4584, 0.5271, 0.4623, 0.5374, 0.5073,\n",
      "         0.5928],\n",
      "        [0.4917, 0.6075, 0.5700, 0.4349, 0.4668, 0.4968, 0.4673, 0.5180, 0.5056,\n",
      "         0.5734],\n",
      "        [0.4992, 0.5980, 0.5910, 0.4216, 0.4673, 0.5134, 0.4625, 0.5349, 0.5147,\n",
      "         0.5904],\n",
      "        [0.4960, 0.5898, 0.5586, 0.4226, 0.4650, 0.4922, 0.4647, 0.5518, 0.5188,\n",
      "         0.5847],\n",
      "        [0.5078, 0.5732, 0.5788, 0.4180, 0.4739, 0.5094, 0.4691, 0.5301, 0.5222,\n",
      "         0.5615],\n",
      "        [0.5034, 0.6018, 0.5499, 0.4028, 0.4605, 0.5272, 0.4665, 0.5329, 0.5134,\n",
      "         0.5947],\n",
      "        [0.4797, 0.5880, 0.5740, 0.4181, 0.4872, 0.5036, 0.4670, 0.5443, 0.4998,\n",
      "         0.5830],\n",
      "        [0.4983, 0.5908, 0.5699, 0.4280, 0.4586, 0.4902, 0.4723, 0.5518, 0.5104,\n",
      "         0.5875],\n",
      "        [0.4995, 0.6082, 0.5710, 0.4234, 0.4657, 0.5232, 0.4583, 0.5307, 0.5074,\n",
      "         0.5921],\n",
      "        [0.4948, 0.5953, 0.5668, 0.4109, 0.4675, 0.5076, 0.4811, 0.5404, 0.5051,\n",
      "         0.5974],\n",
      "        [0.4987, 0.6097, 0.5687, 0.4179, 0.4670, 0.5124, 0.4564, 0.5068, 0.4990,\n",
      "         0.5802],\n",
      "        [0.5102, 0.6022, 0.5750, 0.4260, 0.4826, 0.4891, 0.4624, 0.5132, 0.5143,\n",
      "         0.5908],\n",
      "        [0.4846, 0.6023, 0.5727, 0.4176, 0.4682, 0.5100, 0.4822, 0.5408, 0.5279,\n",
      "         0.5839],\n",
      "        [0.4566, 0.5907, 0.5799, 0.4144, 0.4595, 0.5028, 0.4885, 0.5310, 0.5200,\n",
      "         0.5892],\n",
      "        [0.4994, 0.5886, 0.5766, 0.4099, 0.4717, 0.5062, 0.4706, 0.5490, 0.5236,\n",
      "         0.5859],\n",
      "        [0.5069, 0.5867, 0.5735, 0.3988, 0.4729, 0.5012, 0.4632, 0.5483, 0.5118,\n",
      "         0.5888],\n",
      "        [0.5008, 0.5754, 0.5761, 0.4235, 0.4752, 0.4974, 0.4719, 0.5364, 0.5149,\n",
      "         0.5826],\n",
      "        [0.4952, 0.5878, 0.5689, 0.4165, 0.4690, 0.4956, 0.4711, 0.5461, 0.5083,\n",
      "         0.5787],\n",
      "        [0.4872, 0.6099, 0.5697, 0.4170, 0.4877, 0.4838, 0.4784, 0.5619, 0.5211,\n",
      "         0.5955],\n",
      "        [0.4789, 0.5978, 0.5851, 0.4214, 0.4722, 0.5078, 0.4800, 0.5318, 0.4987,\n",
      "         0.5899],\n",
      "        [0.5013, 0.5831, 0.5708, 0.4198, 0.4630, 0.4922, 0.4685, 0.5521, 0.5195,\n",
      "         0.5803],\n",
      "        [0.4828, 0.5894, 0.5878, 0.3782, 0.4775, 0.5149, 0.4822, 0.5449, 0.5241,\n",
      "         0.5820],\n",
      "        [0.4845, 0.5823, 0.5613, 0.4022, 0.4730, 0.5138, 0.4614, 0.5084, 0.5103,\n",
      "         0.5945],\n",
      "        [0.4820, 0.5784, 0.5871, 0.4096, 0.4689, 0.5034, 0.4756, 0.5311, 0.5127,\n",
      "         0.5793],\n",
      "        [0.4924, 0.6022, 0.5687, 0.4335, 0.4718, 0.4894, 0.4652, 0.5466, 0.5122,\n",
      "         0.5980],\n",
      "        [0.5145, 0.5665, 0.5615, 0.4136, 0.4706, 0.4994, 0.4660, 0.5339, 0.5242,\n",
      "         0.5789],\n",
      "        [0.5040, 0.5955, 0.5524, 0.4003, 0.4736, 0.4994, 0.4659, 0.5400, 0.5206,\n",
      "         0.5828],\n",
      "        [0.4909, 0.5833, 0.5653, 0.3954, 0.4750, 0.4963, 0.4719, 0.5335, 0.5019,\n",
      "         0.5880],\n",
      "        [0.4946, 0.5884, 0.5790, 0.4049, 0.4724, 0.4947, 0.4731, 0.5328, 0.5151,\n",
      "         0.5757],\n",
      "        [0.4722, 0.5924, 0.5738, 0.4151, 0.4699, 0.5168, 0.4830, 0.5253, 0.5123,\n",
      "         0.5990],\n",
      "        [0.5020, 0.5819, 0.5579, 0.4278, 0.4707, 0.4955, 0.4643, 0.5242, 0.5108,\n",
      "         0.5820],\n",
      "        [0.4815, 0.6008, 0.5672, 0.3987, 0.4617, 0.4927, 0.4615, 0.5196, 0.5204,\n",
      "         0.5852],\n",
      "        [0.5002, 0.5958, 0.5628, 0.4041, 0.4652, 0.5104, 0.4792, 0.5129, 0.5114,\n",
      "         0.5867],\n",
      "        [0.4919, 0.5936, 0.5630, 0.4199, 0.4683, 0.4901, 0.4618, 0.5453, 0.5178,\n",
      "         0.5883],\n",
      "        [0.4854, 0.5992, 0.5749, 0.4282, 0.4770, 0.5193, 0.4802, 0.5331, 0.5112,\n",
      "         0.5909],\n",
      "        [0.4934, 0.5772, 0.5430, 0.4240, 0.4757, 0.4908, 0.4633, 0.5353, 0.5112,\n",
      "         0.5812],\n",
      "        [0.4937, 0.6182, 0.5664, 0.4105, 0.4575, 0.5025, 0.4713, 0.5414, 0.4927,\n",
      "         0.5933],\n",
      "        [0.4891, 0.5981, 0.5770, 0.4035, 0.4603, 0.5036, 0.4826, 0.5030, 0.4966,\n",
      "         0.5858],\n",
      "        [0.4977, 0.5764, 0.5730, 0.4008, 0.4981, 0.5046, 0.4477, 0.5317, 0.5169,\n",
      "         0.5652],\n",
      "        [0.4913, 0.5974, 0.5741, 0.4109, 0.4837, 0.5064, 0.4554, 0.5445, 0.5235,\n",
      "         0.5740],\n",
      "        [0.4986, 0.6114, 0.5590, 0.4226, 0.4632, 0.5088, 0.4634, 0.5366, 0.5087,\n",
      "         0.5863],\n",
      "        [0.4930, 0.6075, 0.5794, 0.4394, 0.4774, 0.4957, 0.4616, 0.5194, 0.5043,\n",
      "         0.5837],\n",
      "        [0.4943, 0.5861, 0.5752, 0.4226, 0.4814, 0.5028, 0.4822, 0.5308, 0.5311,\n",
      "         0.5984],\n",
      "        [0.4926, 0.6075, 0.5648, 0.4269, 0.4773, 0.5008, 0.4791, 0.5423, 0.5152,\n",
      "         0.5923],\n",
      "        [0.4931, 0.6029, 0.5572, 0.4114, 0.4834, 0.5234, 0.4571, 0.5182, 0.5067,\n",
      "         0.5886],\n",
      "        [0.4845, 0.5795, 0.5714, 0.4189, 0.4688, 0.5120, 0.4747, 0.5376, 0.5042,\n",
      "         0.5923],\n",
      "        [0.4924, 0.6017, 0.5649, 0.4327, 0.4664, 0.4874, 0.4752, 0.5443, 0.5129,\n",
      "         0.5825],\n",
      "        [0.5028, 0.5879, 0.5709, 0.3929, 0.4716, 0.5234, 0.4784, 0.5354, 0.5152,\n",
      "         0.5936],\n",
      "        [0.4941, 0.6030, 0.5641, 0.4224, 0.4656, 0.4957, 0.4711, 0.5464, 0.5098,\n",
      "         0.5851],\n",
      "        [0.4928, 0.5958, 0.5864, 0.3928, 0.4830, 0.5169, 0.4775, 0.5570, 0.5268,\n",
      "         0.5938],\n",
      "        [0.5098, 0.5824, 0.5706, 0.4142, 0.4672, 0.5047, 0.4826, 0.5482, 0.5131,\n",
      "         0.6074],\n",
      "        [0.4962, 0.5938, 0.5524, 0.4118, 0.4743, 0.4961, 0.4648, 0.5543, 0.4983,\n",
      "         0.5883],\n",
      "        [0.4847, 0.6185, 0.5762, 0.4189, 0.4715, 0.4987, 0.4769, 0.5385, 0.5134,\n",
      "         0.5859],\n",
      "        [0.5033, 0.6091, 0.5505, 0.3927, 0.4628, 0.5200, 0.4616, 0.5352, 0.5076,\n",
      "         0.6032],\n",
      "        [0.4953, 0.6014, 0.5738, 0.4153, 0.4639, 0.5135, 0.4662, 0.5175, 0.5161,\n",
      "         0.5982],\n",
      "        [0.4866, 0.6055, 0.5541, 0.4207, 0.4685, 0.5002, 0.4720, 0.5236, 0.5129,\n",
      "         0.5863],\n",
      "        [0.5141, 0.5936, 0.5669, 0.4072, 0.4669, 0.4993, 0.4775, 0.5402, 0.5202,\n",
      "         0.5998],\n",
      "        [0.5047, 0.5792, 0.5685, 0.4099, 0.4657, 0.4975, 0.4666, 0.5323, 0.5104,\n",
      "         0.5708],\n",
      "        [0.4972, 0.6027, 0.5637, 0.4283, 0.4693, 0.5107, 0.4605, 0.5457, 0.5059,\n",
      "         0.6028],\n",
      "        [0.5058, 0.5779, 0.5695, 0.4217, 0.4768, 0.4929, 0.4799, 0.5425, 0.5196,\n",
      "         0.5849],\n",
      "        [0.5076, 0.5905, 0.5681, 0.4159, 0.4734, 0.5173, 0.4650, 0.5458, 0.5378,\n",
      "         0.5720],\n",
      "        [0.4913, 0.5759, 0.5780, 0.4044, 0.4532, 0.5016, 0.4745, 0.5267, 0.5171,\n",
      "         0.5861],\n",
      "        [0.4980, 0.5918, 0.5678, 0.4196, 0.4717, 0.4828, 0.4743, 0.5547, 0.5215,\n",
      "         0.5782],\n",
      "        [0.4879, 0.6048, 0.5847, 0.4027, 0.4821, 0.5028, 0.4683, 0.5472, 0.5253,\n",
      "         0.5846]], grad_fn=<SigmoidBackward>)\n"
     ]
    }
   ],
   "source": [
    "## Your solution\n",
    "\n",
    "model = nn.Sequential(\n",
    "    nn.Linear(784, 256),\n",
    "    nn.Sigmoid(),\n",
    "    nn.Linear(256, 10),\n",
    "    nn.Sigmoid()\n",
    ")\n",
    "# criterion = nn.MSELoss()\n",
    "# optimizer = torch.optim.SGD(model.parameters(), lr=0.01)\n",
    "# counter = 0\n",
    "# for images, labels in trainloader:\n",
    "#     counter += 1\n",
    "#     y_pred = model(images.view(64,784))\n",
    "    \n",
    "#     loss = criterion(y_pred, labels)\n",
    "#     print('epoch: ', counter,' loss: ', loss.item())\n",
    "    \n",
    "#     optimizer.zero_grad()\n",
    "#     loss.backward()\n",
    "#     optimizer.step()\n",
    "    \n",
    "images, labels = dataiter.next()\n",
    "\n",
    "out = model(images.view(64,784))\n",
    "print(out.size())\n",
    "print(out)"
   ]
  },
  {
   "cell_type": "code",
   "execution_count": 29,
   "metadata": {},
   "outputs": [
    {
     "name": "stdout",
     "output_type": "stream",
     "text": [
      "torch.Size([64, 10])\n",
      "tensor([[-2.3659e+01, -1.1155e+01, -5.4038e+00, -8.0642e+00,  3.9258e+00,\n",
      "          9.2563e+00,  2.0890e+01,  1.1819e+01, -5.0555e+00, -1.4195e+01],\n",
      "        [-2.5184e+01, -1.3592e+01,  8.3814e-01,  3.8269e+00,  5.5879e+00,\n",
      "          7.4922e+00,  1.6313e+01,  2.0177e+00,  5.8923e+00, -6.8412e+00],\n",
      "        [-1.9883e+01, -1.0572e+01,  4.2964e-01, -4.0338e+00,  7.1456e+00,\n",
      "         -2.7110e+00,  2.2149e+01,  9.1987e+00,  2.6399e+00, -7.3157e+00],\n",
      "        [-2.0225e+01, -2.5059e+00, -2.0717e+00, -6.5148e-01,  3.2850e+00,\n",
      "         -2.5048e+00,  6.1599e+00,  1.1402e+00, -2.4079e-01, -1.8106e+00],\n",
      "        [-1.8690e+01, -9.5448e+00, -2.8089e+00,  2.1682e+00,  7.6979e-01,\n",
      "          6.8671e+00,  2.3629e+01, -2.5504e+00, -1.2181e-01, -1.3552e+01],\n",
      "        [-2.9325e+01, -1.8665e+01,  3.6371e+00, -8.3906e+00,  7.1620e+00,\n",
      "         -3.4204e+00,  2.3176e+01,  5.6921e+00, -3.0162e+00,  4.4834e+00],\n",
      "        [-2.1021e+01, -9.7186e+00, -5.9771e+00, -4.0233e+00,  2.3925e+00,\n",
      "          6.7473e+00,  2.3097e+01,  1.0012e+01, -3.9378e+00, -1.1076e+01],\n",
      "        [-2.8794e+01, -1.5768e+01, -4.7114e+00, -7.0125e+00,  3.7778e+00,\n",
      "          3.2567e+00,  3.1491e+01,  1.5868e+01, -1.1016e+01, -8.7447e+00],\n",
      "        [-2.7193e+01, -1.1622e+01, -2.0712e+00, -2.0172e+00,  1.0186e+01,\n",
      "         -1.8409e+00,  2.4796e+01,  7.8730e+00,  2.7213e+00, -4.6705e+00],\n",
      "        [-1.8542e+01, -3.1457e+00, -6.9099e+00,  7.0496e+00,  9.3961e+00,\n",
      "         -2.2378e+00,  2.4284e+01,  1.4218e+01,  4.8585e+00, -1.1710e+01],\n",
      "        [-2.4463e+01, -1.8277e+00, -5.1702e+00,  2.1598e+00,  3.9823e+00,\n",
      "         -3.2304e+00,  3.1959e+01,  1.1753e+01,  9.6726e-01, -9.9851e+00],\n",
      "        [-1.3706e+01, -1.2362e+01, -9.7870e+00,  3.4837e-02, -8.1208e-01,\n",
      "          3.8992e-01,  1.2571e+01,  1.2596e+01,  4.0186e+00, -9.8318e+00],\n",
      "        [-1.6523e+01, -8.8714e+00,  1.2359e+00, -1.1645e+01, -1.0144e+00,\n",
      "         -2.6094e+00,  2.1312e+01,  3.1856e+00, -1.2065e+00, -7.1380e+00],\n",
      "        [-2.7136e+01, -9.7137e+00, -4.9005e+00, -2.3124e+00,  1.0106e+01,\n",
      "          1.4596e+00,  2.2241e+01,  6.5573e+00, -4.6298e+00, -8.4329e+00],\n",
      "        [-1.6138e+01, -2.6376e+00, -4.0875e+00,  1.1551e+01,  1.7236e+00,\n",
      "         -9.4305e+00,  1.6477e+01, -3.7761e+00, -7.1514e+00, -3.3650e+00],\n",
      "        [-2.1246e+01, -9.2661e+00, -2.8403e+00, -6.9834e+00,  3.3267e+00,\n",
      "         -1.1566e+00,  1.9155e+01, -5.4774e-01, -1.0481e+01, -2.8763e+00],\n",
      "        [-2.1598e+01, -7.9253e+00, -1.4422e+01, -8.9797e+00,  9.5409e+00,\n",
      "         -4.5588e+00,  2.1868e+01,  6.0344e+00, -3.9536e+00, -1.0789e+01],\n",
      "        [-3.2889e+01, -5.0846e+00, -3.2798e+00, -9.0531e+00,  4.7687e-01,\n",
      "         -2.5555e+00,  2.3152e+01,  1.2802e+01,  2.3755e+00, -6.9940e+00],\n",
      "        [-3.0609e+01, -5.2139e-01, -4.4533e+00, -3.0752e+00, -1.1508e+00,\n",
      "         -4.6469e+00,  1.3961e+01,  3.0263e+00, -6.7070e-01, -1.2644e+01],\n",
      "        [-2.6758e+01, -6.1533e+00, -6.6416e+00, -1.0887e+01, -2.6901e+00,\n",
      "          2.0899e+00,  2.2833e+01,  9.1659e+00, -6.8348e+00, -9.0290e+00],\n",
      "        [-2.1425e+01, -1.2876e+01, -1.0061e+01, -3.5616e+00,  1.9260e+00,\n",
      "          2.1532e+00,  2.1733e+01,  1.9065e+00,  6.2817e+00, -1.3942e+01],\n",
      "        [-1.9458e+01, -7.8760e+00, -2.1858e+00, -4.9509e+00,  2.6201e+00,\n",
      "         -5.9309e+00,  2.2639e+01,  7.5719e+00,  3.0072e+00, -7.3662e+00],\n",
      "        [-2.4795e+01, -1.2960e+00, -5.4667e+00,  6.0801e-01,  7.0501e+00,\n",
      "         -2.0950e+00,  1.8341e+01,  1.3378e+01, -4.9725e+00, -1.0607e+01],\n",
      "        [-2.4915e+01, -2.9182e+00,  5.1804e+00, -1.5028e+00,  3.0904e+00,\n",
      "         -1.8842e+00,  1.8339e+01,  8.6879e+00,  6.1166e+00, -1.4586e+01],\n",
      "        [-2.7252e+01, -7.3952e+00,  4.5582e+00,  1.5551e+00, -2.8632e+00,\n",
      "          8.2445e-01,  3.0936e+01,  9.0679e-01, -4.8187e+00, -8.5475e+00],\n",
      "        [-2.0039e+01, -8.5292e+00, -3.7795e+00, -8.1516e+00,  9.3186e+00,\n",
      "         -1.1688e+00,  2.4469e+01,  2.7405e+00, -2.1512e+00, -1.3360e+01],\n",
      "        [-1.7755e+01, -1.1736e+01, -1.5020e-01, -1.8293e+00,  7.3016e+00,\n",
      "         -3.3529e+00,  2.4333e+01,  8.6384e+00,  2.3571e+00, -2.2549e+00],\n",
      "        [-2.1683e+01, -6.6230e+00,  3.2736e+00, -5.5507e+00,  3.9304e+00,\n",
      "          2.7854e+00,  3.0163e+01,  8.8827e+00,  6.9513e+00, -1.4292e+01],\n",
      "        [-2.8637e+01,  1.0683e-02, -1.0348e+01,  4.3177e+00, -1.1987e+00,\n",
      "         -2.3020e+00,  2.5801e+01,  4.6776e+00,  9.7135e+00, -1.1480e+01],\n",
      "        [-1.7865e+01, -7.7164e+00, -5.3234e+00, -4.6968e+00,  2.3650e+00,\n",
      "          3.8687e+00,  1.5396e+01,  8.1581e+00, -1.4683e+01, -7.2804e+00],\n",
      "        [-2.4952e+01, -5.4947e+00, -9.2802e+00,  3.2977e+00,  7.5897e+00,\n",
      "         -7.4230e+00,  1.3900e+01,  4.9837e+00,  6.6905e+00, -2.9042e+00],\n",
      "        [-3.3205e+01, -1.4014e+01, -7.4435e-02, -4.3197e+00,  7.7192e+00,\n",
      "         -5.7741e-01,  2.4213e+01,  1.4207e+01,  6.5737e+00, -1.5790e+00],\n",
      "        [-2.3986e+01, -1.8331e+01,  6.8672e+00, -1.1503e+00,  1.3029e+01,\n",
      "         -1.4881e-01,  1.5501e+01,  4.7325e+00,  5.1655e+00, -1.1915e+01],\n",
      "        [-2.8350e+01, -4.2022e+00, -1.7678e+00,  3.7567e-01,  9.2482e+00,\n",
      "         -9.5413e-01,  2.7577e+01,  1.1547e+01,  8.1973e-01, -1.4973e+01],\n",
      "        [-1.2027e+01, -9.6355e+00, -1.0751e-01,  2.1469e+00,  6.2017e-01,\n",
      "         -7.6607e-01,  2.6751e+01, -2.0510e+00, -1.2487e+00, -2.5321e+00],\n",
      "        [-1.7410e+01, -1.5894e+01, -3.8651e+00, -4.2826e+00, -1.8592e+00,\n",
      "          9.2198e+00,  2.4258e+01, -4.9638e-01, -1.9444e+00, -7.7446e+00],\n",
      "        [-2.2780e+01, -1.8754e+01, -3.0659e+00, -8.9884e+00,  3.1634e+00,\n",
      "          3.8099e+00,  2.8951e+01,  4.4721e+00, -1.3464e+01, -2.1309e+00],\n",
      "        [-2.0383e+01, -1.0229e+01, -8.3603e+00, -7.0622e+00,  3.3935e+00,\n",
      "          5.2787e+00,  2.7141e+01,  8.3668e+00,  6.7118e-01, -1.0648e+01],\n",
      "        [-2.3388e+01, -1.7829e+01, -5.3964e-02,  3.6599e+00,  2.6057e+00,\n",
      "         -2.4294e+00,  2.2057e+01,  2.3524e+00, -2.3293e+00, -2.7222e+00],\n",
      "        [-1.3779e+01, -3.5286e+00, -1.6754e+01, -1.1986e+00,  5.4498e+00,\n",
      "         -8.3812e+00,  2.2768e+01, -3.6095e+00,  4.5177e+00, -1.1270e+01],\n",
      "        [-2.2583e+01, -9.1132e+00, -1.1712e+01, -3.1750e+00,  2.3113e+00,\n",
      "          9.7337e-01,  1.6179e+01,  1.0819e+01, -3.8299e-02, -9.1166e+00],\n",
      "        [-2.6020e+01, -8.2481e+00,  1.8672e+00, -3.5069e+00, -2.0322e+00,\n",
      "          1.7448e-01,  3.0455e+01,  1.5141e+01, -2.8318e+00, -6.8221e+00],\n",
      "        [-1.0657e+01, -1.1966e+01, -6.3206e-01, -1.1814e+01,  5.5900e-01,\n",
      "          5.9878e+00,  2.1316e+01,  7.8088e+00, -6.6339e+00, -1.6569e+01],\n",
      "        [-1.7277e+01, -1.2703e+01, -1.4301e+00, -1.1504e+00, -2.1246e+00,\n",
      "          3.7110e+00,  2.6460e+01, -1.0157e+01, -2.5680e+00, -5.0315e+00],\n",
      "        [-2.6385e+01, -8.1523e+00, -7.0739e+00, -3.3066e+00,  3.6979e+00,\n",
      "          2.4095e+00,  1.8822e+01,  9.2184e+00,  5.7741e+00, -8.8064e+00],\n",
      "        [-2.1129e+01, -8.7387e+00, -1.6982e+00,  3.3094e+00, -2.2435e-01,\n",
      "          1.0909e+00,  2.9816e+01,  2.7780e+00,  1.9337e+00,  9.8229e-02],\n",
      "        [-2.6138e+01, -1.1604e+01,  9.2395e+00, -4.4352e+00, -3.7398e+00,\n",
      "          3.7560e+00,  2.3342e+01,  5.0075e+00,  4.3866e+00, -1.1210e+01],\n",
      "        [-3.1628e+01, -1.0682e+01, -3.4170e+00, -4.4912e+00, -3.8811e-01,\n",
      "         -4.3763e-01,  2.7356e+01,  6.6004e+00,  1.0234e+01, -5.8523e+00],\n",
      "        [-2.0693e+01, -1.3162e+01, -6.0033e+00, -1.2762e+01, -2.9991e+00,\n",
      "         -3.8612e+00,  2.2756e+01,  1.0001e+01, -7.8310e+00,  8.0308e-02],\n",
      "        [-2.1725e+01, -1.1034e+01, -2.9457e+00, -3.1787e+00,  3.5872e+00,\n",
      "          2.0713e+00,  3.4834e+01,  2.8362e+00, -1.3278e+01, -5.8858e+00],\n",
      "        [-3.1225e+01, -1.6636e+01,  1.1862e+00, -2.2948e+00,  2.3104e+00,\n",
      "          1.3507e+00,  2.7951e+01,  4.7122e+00,  1.7454e+00, -5.1997e+00],\n",
      "        [-2.3878e+01, -5.2229e+00, -7.9006e+00, -7.9174e+00,  2.6085e+00,\n",
      "          5.8092e+00,  1.8839e+01,  6.1582e+00, -3.3176e+00, -2.8463e+00],\n",
      "        [-1.9457e+01, -8.8043e+00, -5.7189e+00, -3.3784e+00,  1.0351e+01,\n",
      "          3.1135e+00,  2.9270e+01,  5.8942e+00, -5.6559e+00, -3.3037e+00],\n",
      "        [-2.6173e+01, -1.3366e+00, -6.9170e+00, -2.7787e+00,  7.3795e+00,\n",
      "          4.6341e+00,  2.0299e+01,  1.3193e+01,  7.8170e+00, -1.1920e+01],\n",
      "        [-3.0445e+01,  2.8119e+00, -8.7258e+00,  1.5692e-01,  2.1768e+00,\n",
      "         -1.0202e+01,  2.1975e+01, -3.8346e+00,  7.6327e+00, -7.1705e+00],\n",
      "        [-1.3775e+01, -1.2383e+01, -7.1413e-01, -6.0906e+00,  4.2434e+00,\n",
      "         -8.2727e+00,  2.0654e+01,  7.9423e+00,  9.2041e+00, -1.3487e+01],\n",
      "        [-3.1550e+01, -5.9591e+00, -8.5136e+00, -3.8413e+00,  2.4320e+00,\n",
      "         -1.0040e+00,  3.1043e+01,  8.3582e+00, -1.7734e+00,  6.9834e-01],\n",
      "        [-2.2088e+01, -9.4082e+00, -3.1272e-01, -1.7257e+00,  5.5322e+00,\n",
      "         -5.7483e+00,  2.4719e+01,  4.7898e+00,  1.0280e+01, -1.0868e+01],\n",
      "        [-3.2781e+01, -7.4950e+00, -7.1988e+00,  8.3426e-01,  7.6196e+00,\n",
      "         -7.5665e-01,  2.6426e+01,  1.1666e+01, -8.1736e+00, -4.2217e-02],\n",
      "        [-1.8306e+01, -1.0882e+01,  1.3030e+00, -1.2803e+00,  2.8130e+00,\n",
      "          5.5287e+00,  1.6399e+01,  1.1385e+01, -8.2331e-01, -9.5771e+00],\n",
      "        [-1.7466e+01, -1.0780e+01, -2.0906e+00,  9.3794e+00, -4.7010e+00,\n",
      "         -2.5852e+00,  1.9504e+01, -1.0095e+01, -1.3163e+00, -4.8938e+00],\n",
      "        [-3.1311e+01, -1.4756e+00, -9.3169e+00, -1.1161e+01,  4.5672e+00,\n",
      "         -1.1166e+00,  1.8490e+01,  2.3453e+00,  2.2441e+00, -3.9916e+00],\n",
      "        [-1.5518e+01, -1.1192e+01, -9.1675e+00, -6.6885e+00,  1.3985e+00,\n",
      "         -5.2590e+00,  2.0283e+01,  1.4172e+01,  7.0775e+00, -9.8121e+00],\n",
      "        [-1.3537e+01, -1.3894e+01, -4.1236e+00, -8.5811e-01,  5.8176e+00,\n"
     ]
    },
    {
     "name": "stdout",
     "output_type": "stream",
     "text": [
      "          8.4557e+00,  2.6680e+01,  6.7281e+00, -1.1892e+00, -1.3938e+01]])\n"
     ]
    }
   ],
   "source": [
    "def activation(x):\n",
    "    return 1/(1+torch.exp(-x))\n",
    "\n",
    "images, labels = dataiter.next()\n",
    "inputs = images.view(images.shape[0], -1)\n",
    "\n",
    "w1 = torch.randn(784, 256)\n",
    "b1 = torch.randn(256)\n",
    "\n",
    "w2 = torch.randn(256,10)\n",
    "b2 = torch.randn(10)\n",
    "\n",
    "h = activation(torch.mm(inputs,w1) + b1)\n",
    "\n",
    "out = torch.mm(h, w2) + b2\n",
    "print(out.size())\n",
    "print(out)"
   ]
  },
  {
   "cell_type": "markdown",
   "metadata": {},
   "source": [
    "Now we have 10 outputs for our network. We want to pass in an image to our network and get out a probability distribution over the classes that tells us the likely class(es) the image belongs to. Something that looks like this:\n",
    "<img src='assets/image_distribution.png' width=500px>\n",
    "\n",
    "Here we see that the probability for each class is roughly the same. This is representing an untrained network, it hasn't seen any data yet so it just returns a uniform distribution with equal probabilities for each class.\n",
    "\n",
    "To calculate this probability distribution, we often use the [**softmax** function](https://en.wikipedia.org/wiki/Softmax_function). Mathematically this looks like\n",
    "\n",
    "$$\n",
    "\\Large \\sigma(x_i) = \\cfrac{e^{x_i}}{\\sum_k^K{e^{x_k}}}\n",
    "$$\n",
    "\n",
    "What this does is squish each input $x_i$ between 0 and 1 and normalizes the values to give you a proper probability distribution where the probabilites sum up to one.\n",
    "\n",
    "> **Exercise:** Implement a function `softmax` that performs the softmax calculation and returns probability distributions for each example in the batch. Note that you'll need to pay attention to the shapes when doing this. If you have a tensor `a` with shape `(64, 10)` and a tensor `b` with shape `(64,)`, doing `a/b` will give you an error because PyTorch will try to do the division across the columns (called broadcasting) but you'll get a size mismatch. The way to think about this is for each of the 64 examples, you only want to divide by one value, the sum in the denominator. So you need `b` to have a shape of `(64, 1)`. This way PyTorch will divide the 10 values in each row of `a` by the one value in each row of `b`. Pay attention to how you take the sum as well. You'll need to define the `dim` keyword in `torch.sum`. Setting `dim=0` takes the sum across the rows while `dim=1` takes the sum across the columns."
   ]
  },
  {
   "cell_type": "code",
   "execution_count": 31,
   "metadata": {},
   "outputs": [
    {
     "name": "stdout",
     "output_type": "stream",
     "text": [
      "torch.Size([64, 10])\n",
      "tensor([1.0000, 1.0000, 1.0000, 1.0000, 1.0000, 1.0000, 1.0000, 1.0000, 1.0000,\n",
      "        1.0000, 1.0000, 1.0000, 1.0000, 1.0000, 1.0000, 1.0000, 1.0000, 1.0000,\n",
      "        1.0000, 1.0000, 1.0000, 1.0000, 1.0000, 1.0000, 1.0000, 1.0000, 1.0000,\n",
      "        1.0000, 1.0000, 1.0000, 1.0000, 1.0000, 1.0000, 1.0000, 1.0000, 1.0000,\n",
      "        1.0000, 1.0000, 1.0000, 1.0000, 1.0000, 1.0000, 1.0000, 1.0000, 1.0000,\n",
      "        1.0000, 1.0000, 1.0000, 1.0000, 1.0000, 1.0000, 1.0000, 1.0000, 1.0000,\n",
      "        1.0000, 1.0000, 1.0000, 1.0000, 1.0000, 1.0000, 1.0000, 1.0000, 1.0000,\n",
      "        1.0000], grad_fn=<SumBackward2>)\n"
     ]
    }
   ],
   "source": [
    "def softmax(x):\n",
    "    ## TODO: Implement the softmax function here\n",
    "    top = torch.exp(x)\n",
    "    bottom = torch.exp(x).sum(dim=1)\n",
    "    \n",
    "    return top/bottom.view(64,1)\n",
    "\n",
    "# Here, out should be the output of the network in the previous excercise with shape (64,10)\n",
    "probabilities = softmax(out)\n",
    "\n",
    "# Does it have the right shape? Should be (64, 10)\n",
    "print(probabilities.shape)\n",
    "# Does it sum to 1?\n",
    "print(probabilities.sum(dim=1))"
   ]
  },
  {
   "cell_type": "markdown",
   "metadata": {},
   "source": [
    "## Building networks with PyTorch\n",
    "\n",
    "PyTorch provides a module `nn` that makes building networks much simpler. Here I'll show you how to build the same one as above with 784 inputs, 256 hidden units, 10 output units and a softmax output."
   ]
  },
  {
   "cell_type": "code",
   "execution_count": 32,
   "metadata": {},
   "outputs": [],
   "source": [
    "from torch import nn"
   ]
  },
  {
   "cell_type": "code",
   "execution_count": 36,
   "metadata": {},
   "outputs": [],
   "source": [
    "class Network(nn.Module):\n",
    "    def __init__(self):\n",
    "        super().__init__()\n",
    "        \n",
    "        # Inputs to hidden layer linear transformation\n",
    "        self.hidden = nn.Linear(784, 256)\n",
    "        # Output layer, 10 units - one for each digit\n",
    "        self.output = nn.Linear(256, 10)\n",
    "        \n",
    "        # Define sigmoid activation and softmax output \n",
    "        self.sigmoid = nn.Sigmoid()\n",
    "        self.softmax = nn.Softmax(dim=1)\n",
    "        \n",
    "    def forward(self, x):\n",
    "        # Pass the input tensor through each of our operations\n",
    "        x = self.hidden(x)\n",
    "        x = self.sigmoid(x)\n",
    "        x = self.output(x)\n",
    "        x = self.softmax(x)\n",
    "        \n",
    "        return x"
   ]
  },
  {
   "cell_type": "markdown",
   "metadata": {},
   "source": [
    "Let's go through this bit by bit.\n",
    "\n",
    "```python\n",
    "class Network(nn.Module):\n",
    "```\n",
    "\n",
    "Here we're inheriting from `nn.Module`. Combined with `super().__init__()` this creates a class that tracks the architecture and provides a lot of useful methods and attributes. It is mandatory to inherit from `nn.Module` when you're creating a class for your network. The name of the class itself can be anything.\n",
    "\n",
    "```python\n",
    "self.hidden = nn.Linear(784, 256)\n",
    "```\n",
    "\n",
    "This line creates a module for a linear transformation, $x\\mathbf{W} + b$, with 784 inputs and 256 outputs and assigns it to `self.hidden`. The module automatically creates the weight and bias tensors which we'll use in the `forward` method. You can access the weight and bias tensors once the network (`net`) is created with `net.hidden.weight` and `net.hidden.bias`.\n",
    "\n",
    "```python\n",
    "self.output = nn.Linear(256, 10)\n",
    "```\n",
    "\n",
    "Similarly, this creates another linear transformation with 256 inputs and 10 outputs.\n",
    "\n",
    "```python\n",
    "self.sigmoid = nn.Sigmoid()\n",
    "self.softmax = nn.Softmax(dim=1)\n",
    "```\n",
    "\n",
    "Here I defined operations for the sigmoid activation and softmax output. Setting `dim=1` in `nn.Softmax(dim=1)` calculates softmax across the columns.\n",
    "\n",
    "```python\n",
    "def forward(self, x):\n",
    "```\n",
    "\n",
    "PyTorch networks created with `nn.Module` must have a `forward` method defined. It takes in a tensor `x` and passes it through the operations you defined in the `__init__` method.\n",
    "\n",
    "```python\n",
    "x = self.hidden(x)\n",
    "x = self.sigmoid(x)\n",
    "x = self.output(x)\n",
    "x = self.softmax(x)\n",
    "```\n",
    "\n",
    "Here the input tensor `x` is passed through each operation a reassigned to `x`. We can see that the input tensor goes through the hidden layer, then a sigmoid function, then the output layer, and finally the softmax function. It doesn't matter what you name the variables here, as long as the inputs and outputs of the operations match the network architecture you want to build. The order in which you define things in the `__init__` method doesn't matter, but you'll need to sequence the operations correctly in the `forward` method.\n",
    "\n",
    "Now we can create a `Network` object."
   ]
  },
  {
   "cell_type": "code",
   "execution_count": 43,
   "metadata": {},
   "outputs": [
    {
     "data": {
      "text/plain": [
       "Network(\n",
       "  (hidden): Linear(in_features=784, out_features=256, bias=True)\n",
       "  (output): Linear(in_features=256, out_features=10, bias=True)\n",
       ")"
      ]
     },
     "execution_count": 43,
     "metadata": {},
     "output_type": "execute_result"
    }
   ],
   "source": [
    "# Create the network and look at it's text representation\n",
    "model = Network()\n",
    "model"
   ]
  },
  {
   "cell_type": "markdown",
   "metadata": {},
   "source": [
    "You can define the network somewhat more concisely and clearly using the `torch.nn.functional` module. This is the most common way you'll see networks defined as many operations are simple element-wise functions. We normally import this module as `F`, `import torch.nn.functional as F`."
   ]
  },
  {
   "cell_type": "code",
   "execution_count": 42,
   "metadata": {},
   "outputs": [],
   "source": [
    "import torch.nn.functional as F\n",
    "\n",
    "class Network(nn.Module):\n",
    "    def __init__(self):\n",
    "        super().__init__()\n",
    "        # Inputs to hidden layer linear transformation\n",
    "        self.hidden = nn.Linear(784, 256)\n",
    "        # Output layer, 10 units - one for each digit\n",
    "        self.output = nn.Linear(256, 10)\n",
    "        \n",
    "    def forward(self, x):\n",
    "        # Hidden layer with sigmoid activation\n",
    "        x = F.sigmoid(self.hidden(x))\n",
    "        # Output layer with softmax activation\n",
    "        x = F.softmax(self.output(x), dim=1)\n",
    "        \n",
    "        return x"
   ]
  },
  {
   "cell_type": "markdown",
   "metadata": {},
   "source": [
    "### Activation functions\n",
    "\n",
    "So far we've only been looking at the softmax activation, but in general any function can be used as an activation function. The only requirement is that for a network to approximate a non-linear function, the activation functions must be non-linear. Here are a few more examples of common activation functions: Tanh (hyperbolic tangent), and ReLU (rectified linear unit).\n",
    "\n",
    "<img src=\"assets/activation.png\" width=700px>\n",
    "\n",
    "In practice, the ReLU function is used almost exclusively as the activation function for hidden layers."
   ]
  },
  {
   "cell_type": "markdown",
   "metadata": {},
   "source": [
    "### Your Turn to Build a Network\n",
    "\n",
    "<img src=\"assets/mlp_mnist.png\" width=600px>\n",
    "\n",
    "> **Exercise:** Create a network with 784 input units, a hidden layer with 128 units and a ReLU activation, then a hidden layer with 64 units and a ReLU activation, and finally an output layer with a softmax activation as shown above. You can use a ReLU activation with the `nn.ReLU` module or `F.relu` function."
   ]
  },
  {
   "cell_type": "code",
   "execution_count": 87,
   "metadata": {
    "scrolled": true
   },
   "outputs": [
    {
     "data": {
      "text/plain": [
       "MyNetwork(\n",
       "  (fc1): Linear(in_features=784, out_features=128, bias=True)\n",
       "  (fc2): Linear(in_features=128, out_features=64, bias=True)\n",
       "  (output): Linear(in_features=64, out_features=10, bias=True)\n",
       ")"
      ]
     },
     "execution_count": 87,
     "metadata": {},
     "output_type": "execute_result"
    }
   ],
   "source": [
    "## Your solution here\n",
    "# model = nn.Sequential(\n",
    "#     nn.Linear(784, 128),\n",
    "#     nn.ReLU(),\n",
    "#     nn.Linear(128, 64),\n",
    "#     nn.ReLU(),\n",
    "#     nn.Linear(64, 10),\n",
    "#     nn.Softmax()\n",
    "# )\n",
    "\n",
    "class MyNetwork(nn.Module):\n",
    "    def __init__(self):\n",
    "        super().__init__()\n",
    "        self.fc1 = nn.Linear(784, 128)\n",
    "        self.fc2 = nn.Linear(128, 64)\n",
    "        self.output = nn.Linear(64, 10)\n",
    "        \n",
    "    def forward(self, x):\n",
    "        # Hidden layer with sigmoid activation\n",
    "        x = F.relu(self.fc1(x))\n",
    "        x = F.relu(self.fc2(x))\n",
    "        \n",
    "        # Output layer with softmax activation\n",
    "        x = F.softmax(self.output(x), dim=1)\n",
    "#         x = self.fc1(x)\n",
    "#         x = F.relu(x)\n",
    "#         x = self.fc2(x)\n",
    "#         x = F.relu(x)\n",
    "#         x = self.output(x)\n",
    "#         x = F.softmax(x, dim=1)\n",
    "        \n",
    "        return x\n",
    "    \n",
    "model = MyNetwork()\n",
    "model"
   ]
  },
  {
   "cell_type": "markdown",
   "metadata": {},
   "source": [
    "### Initializing weights and biases\n",
    "\n",
    "The weights and such are automatically initialized for you, but it's possible to customize how they are initialized. The weights and biases are tensors attached to the layer you defined, you can get them with `model.fc1.weight` for instance."
   ]
  },
  {
   "cell_type": "code",
   "execution_count": 88,
   "metadata": {},
   "outputs": [
    {
     "name": "stdout",
     "output_type": "stream",
     "text": [
      "Parameter containing:\n",
      "tensor([[-0.0341, -0.0040,  0.0270,  ..., -0.0271,  0.0158,  0.0214],\n",
      "        [ 0.0291,  0.0103,  0.0247,  ..., -0.0333,  0.0124,  0.0065],\n",
      "        [-0.0069,  0.0205, -0.0211,  ...,  0.0147,  0.0055,  0.0261],\n",
      "        ...,\n",
      "        [-0.0086,  0.0191,  0.0125,  ...,  0.0209,  0.0160, -0.0074],\n",
      "        [-0.0344,  0.0320, -0.0303,  ..., -0.0113, -0.0008, -0.0140],\n",
      "        [ 0.0010,  0.0287, -0.0112,  ...,  0.0263,  0.0047,  0.0132]],\n",
      "       requires_grad=True)\n",
      "Parameter containing:\n",
      "tensor([ 0.0327, -0.0044,  0.0011,  0.0075,  0.0262,  0.0013,  0.0130, -0.0009,\n",
      "         0.0217,  0.0135, -0.0251,  0.0229,  0.0274, -0.0131,  0.0159,  0.0319,\n",
      "        -0.0079,  0.0188, -0.0302, -0.0198, -0.0084,  0.0278,  0.0257,  0.0071,\n",
      "         0.0182, -0.0027, -0.0202,  0.0194, -0.0071, -0.0175,  0.0146, -0.0247,\n",
      "        -0.0171,  0.0220, -0.0011, -0.0321, -0.0339,  0.0050,  0.0234, -0.0210,\n",
      "        -0.0250, -0.0133,  0.0087,  0.0111,  0.0037,  0.0105,  0.0038,  0.0179,\n",
      "        -0.0019,  0.0068, -0.0093,  0.0049, -0.0282, -0.0084,  0.0144, -0.0209,\n",
      "        -0.0053,  0.0354,  0.0122, -0.0227, -0.0064,  0.0304,  0.0282, -0.0296,\n",
      "        -0.0012, -0.0109, -0.0142, -0.0074,  0.0356,  0.0022,  0.0103,  0.0313,\n",
      "         0.0226, -0.0030, -0.0054,  0.0076,  0.0078, -0.0172,  0.0081,  0.0162,\n",
      "        -0.0086, -0.0029, -0.0232,  0.0097, -0.0053, -0.0010,  0.0352,  0.0081,\n",
      "        -0.0268, -0.0155,  0.0232,  0.0016, -0.0131, -0.0288,  0.0300, -0.0032,\n",
      "         0.0324,  0.0226, -0.0245,  0.0262,  0.0176,  0.0323, -0.0253,  0.0157,\n",
      "        -0.0279,  0.0290,  0.0041,  0.0115,  0.0240, -0.0044,  0.0009, -0.0157,\n",
      "        -0.0113,  0.0157,  0.0057,  0.0013, -0.0283, -0.0320, -0.0007,  0.0220,\n",
      "         0.0238,  0.0181,  0.0270, -0.0173, -0.0074,  0.0060,  0.0209,  0.0324],\n",
      "       requires_grad=True)\n"
     ]
    }
   ],
   "source": [
    "model = MyNetwork()\n",
    "print(model.fc1.weight)\n",
    "print(model.fc1.bias)"
   ]
  },
  {
   "cell_type": "markdown",
   "metadata": {},
   "source": [
    "For custom initialization, we want to modify these tensors in place. These are actually autograd *Variables*, so we need to get back the actual tensors with `model.fc1.weight.data`. Once we have the tensors, we can fill them with zeros (for biases) or random normal values."
   ]
  },
  {
   "cell_type": "code",
   "execution_count": 89,
   "metadata": {},
   "outputs": [
    {
     "data": {
      "text/plain": [
       "tensor([0., 0., 0., 0., 0., 0., 0., 0., 0., 0., 0., 0., 0., 0., 0., 0., 0., 0., 0., 0., 0., 0., 0., 0.,\n",
       "        0., 0., 0., 0., 0., 0., 0., 0., 0., 0., 0., 0., 0., 0., 0., 0., 0., 0., 0., 0., 0., 0., 0., 0.,\n",
       "        0., 0., 0., 0., 0., 0., 0., 0., 0., 0., 0., 0., 0., 0., 0., 0., 0., 0., 0., 0., 0., 0., 0., 0.,\n",
       "        0., 0., 0., 0., 0., 0., 0., 0., 0., 0., 0., 0., 0., 0., 0., 0., 0., 0., 0., 0., 0., 0., 0., 0.,\n",
       "        0., 0., 0., 0., 0., 0., 0., 0., 0., 0., 0., 0., 0., 0., 0., 0., 0., 0., 0., 0., 0., 0., 0., 0.,\n",
       "        0., 0., 0., 0., 0., 0., 0., 0.])"
      ]
     },
     "execution_count": 89,
     "metadata": {},
     "output_type": "execute_result"
    }
   ],
   "source": [
    "# Set biases to all zeros\n",
    "model.fc1.bias.data.fill_(0)"
   ]
  },
  {
   "cell_type": "code",
   "execution_count": 90,
   "metadata": {},
   "outputs": [
    {
     "data": {
      "text/plain": [
       "tensor([[-0.0064,  0.0098, -0.0137,  ..., -0.0051, -0.0067, -0.0029],\n",
       "        [-0.0083, -0.0041,  0.0139,  ..., -0.0038, -0.0046,  0.0074],\n",
       "        [ 0.0007, -0.0153,  0.0021,  ..., -0.0170,  0.0072, -0.0079],\n",
       "        ...,\n",
       "        [ 0.0118,  0.0060, -0.0141,  ...,  0.0092, -0.0033, -0.0059],\n",
       "        [ 0.0065, -0.0116, -0.0047,  ...,  0.0039, -0.0103, -0.0086],\n",
       "        [ 0.0154, -0.0036, -0.0111,  ..., -0.0027, -0.0036, -0.0038]])"
      ]
     },
     "execution_count": 90,
     "metadata": {},
     "output_type": "execute_result"
    }
   ],
   "source": [
    "# sample from random normal with standard dev = 0.01\n",
    "model.fc1.weight.data.normal_(std=0.01)"
   ]
  },
  {
   "cell_type": "markdown",
   "metadata": {},
   "source": [
    "### Forward pass\n",
    "\n",
    "Now that we have a network, let's see what happens when we pass in an image."
   ]
  },
  {
   "cell_type": "code",
   "execution_count": 91,
   "metadata": {},
   "outputs": [
    {
     "data": {
      "image/png": "[encoded data removed]",
      "text/plain": [
       "<Figure size 432x648 with 2 Axes>"
      ]
     },
     "metadata": {
      "image/png": {
       "height": 226,
       "width": 423
      },
      "needs_background": "light"
     },
     "output_type": "display_data"
    }
   ],
   "source": [
    "# Grab some data \n",
    "dataiter = iter(trainloader)\n",
    "images, labels = dataiter.next()\n",
    "\n",
    "# Resize images into a 1D vector, new shape is (batch size, color channels, image pixels) \n",
    "images.resize_(64, 1, 784)\n",
    "# or images.resize_(images.shape[0], 1, 784) to automatically get batch size\n",
    "\n",
    "# Forward pass through the network\n",
    "img_idx = 0\n",
    "ps = model.forward(images[img_idx,:])\n",
    "\n",
    "img = images[img_idx]\n",
    "helper.view_classify(img.view(1, 28, 28), ps)"
   ]
  },
  {
   "cell_type": "markdown",
   "metadata": {},
   "source": [
    "As you can see above, our network has basically no idea what this digit is. It's because we haven't trained it yet, all the weights are random!\n",
    "\n",
    "### Using `nn.Sequential`\n",
    "\n",
    "PyTorch provides a convenient way to build networks like this where a tensor is passed sequentially through operations, `nn.Sequential` ([documentation](https://pytorch.org/docs/master/nn.html#torch.nn.Sequential)). Using this to build the equivalent network:"
   ]
  },
  {
   "cell_type": "code",
   "execution_count": 92,
   "metadata": {},
   "outputs": [
    {
     "name": "stdout",
     "output_type": "stream",
     "text": [
      "Sequential(\n",
      "  (0): Linear(in_features=784, out_features=128, bias=True)\n",
      "  (1): ReLU()\n",
      "  (2): Linear(in_features=128, out_features=64, bias=True)\n",
      "  (3): ReLU()\n",
      "  (4): Linear(in_features=64, out_features=10, bias=True)\n",
      "  (5): Softmax()\n",
      ")\n"
     ]
    },
    {
     "data": {
      "image/png": "[encoded data removed]",
      "text/plain": [
       "<Figure size 432x648 with 2 Axes>"
      ]
     },
     "metadata": {
      "image/png": {
       "height": 226,
       "width": 423
      },
      "needs_background": "light"
     },
     "output_type": "display_data"
    }
   ],
   "source": [
    "# Hyperparameters for our network\n",
    "input_size = 784\n",
    "hidden_sizes = [128, 64]\n",
    "output_size = 10\n",
    "\n",
    "# Build a feed-forward network\n",
    "model = nn.Sequential(nn.Linear(input_size, hidden_sizes[0]),\n",
    "                      nn.ReLU(),\n",
    "                      nn.Linear(hidden_sizes[0], hidden_sizes[1]),\n",
    "                      nn.ReLU(),\n",
    "                      nn.Linear(hidden_sizes[1], output_size),\n",
    "                      nn.Softmax(dim=1))\n",
    "print(model)\n",
    "\n",
    "# Forward pass through the network and display output\n",
    "images, labels = next(iter(trainloader))\n",
    "images.resize_(images.shape[0], 1, 784)\n",
    "ps = model.forward(images[0,:])\n",
    "helper.view_classify(images[0].view(1, 28, 28), ps)"
   ]
  },
  {
   "cell_type": "markdown",
   "metadata": {},
   "source": [
    "Here our model is the same as before: 784 input units, a hidden layer with 128 units, ReLU activation, 64 unit hidden layer, another ReLU, then the output layer with 10 units, and the softmax output.\n",
    "\n",
    "The operations are availble by passing in the appropriate index. For example, if you want to get first Linear operation and look at the weights, you'd use `model[0]`."
   ]
  },
  {
   "cell_type": "code",
   "execution_count": 93,
   "metadata": {},
   "outputs": [
    {
     "name": "stdout",
     "output_type": "stream",
     "text": [
      "Linear(in_features=784, out_features=128, bias=True)\n"
     ]
    },
    {
     "data": {
      "text/plain": [
       "Parameter containing:\n",
       "tensor([[-0.0233,  0.0142, -0.0110,  ...,  0.0239, -0.0190, -0.0309],\n",
       "        [-0.0347, -0.0111,  0.0261,  ...,  0.0328,  0.0149,  0.0238],\n",
       "        [-0.0106,  0.0122,  0.0097,  ..., -0.0292, -0.0228,  0.0298],\n",
       "        ...,\n",
       "        [-0.0048, -0.0341, -0.0302,  ..., -0.0020, -0.0260, -0.0160],\n",
       "        [ 0.0247,  0.0112, -0.0157,  ..., -0.0031, -0.0254, -0.0158],\n",
       "        [ 0.0057,  0.0354,  0.0256,  ..., -0.0183, -0.0239, -0.0194]],\n",
       "       requires_grad=True)"
      ]
     },
     "execution_count": 93,
     "metadata": {},
     "output_type": "execute_result"
    }
   ],
   "source": [
    "print(model[0])\n",
    "model[0].weight"
   ]
  },
  {
   "cell_type": "markdown",
   "metadata": {},
   "source": [
    "You can also pass in an `OrderedDict` to name the individual layers and operations, instead of using incremental integers. Note that dictionary keys must be unique, so _each operation must have a different name_."
   ]
  },
  {
   "cell_type": "code",
   "execution_count": 94,
   "metadata": {},
   "outputs": [
    {
     "data": {
      "text/plain": [
       "Sequential(\n",
       "  (fc1): Linear(in_features=784, out_features=128, bias=True)\n",
       "  (relu1): ReLU()\n",
       "  (fc2): Linear(in_features=128, out_features=64, bias=True)\n",
       "  (relu2): ReLU()\n",
       "  (output): Linear(in_features=64, out_features=10, bias=True)\n",
       "  (softmax): Softmax()\n",
       ")"
      ]
     },
     "execution_count": 94,
     "metadata": {},
     "output_type": "execute_result"
    }
   ],
   "source": [
    "from collections import OrderedDict\n",
    "model = nn.Sequential(OrderedDict([\n",
    "                      ('fc1', nn.Linear(input_size, hidden_sizes[0])),\n",
    "                      ('relu1', nn.ReLU()),\n",
    "                      ('fc2', nn.Linear(hidden_sizes[0], hidden_sizes[1])),\n",
    "                      ('relu2', nn.ReLU()),\n",
    "                      ('output', nn.Linear(hidden_sizes[1], output_size)),\n",
    "                      ('softmax', nn.Softmax(dim=1))]))\n",
    "model"
   ]
  },
  {
   "cell_type": "markdown",
   "metadata": {},
   "source": [
    "Now you can access layers either by integer or the name"
   ]
  },
  {
   "cell_type": "code",
   "execution_count": 95,
   "metadata": {},
   "outputs": [
    {
     "name": "stdout",
     "output_type": "stream",
     "text": [
      "Linear(in_features=784, out_features=128, bias=True)\n",
      "Linear(in_features=784, out_features=128, bias=True)\n"
     ]
    }
   ],
   "source": [
    "print(model[0])\n",
    "print(model.fc1)"
   ]
  },
  {
   "cell_type": "markdown",
   "metadata": {},
   "source": [
    "In the next notebook, we'll see how we can train a neural network to accuractly predict the numbers appearing in the MNIST images."
   ]
  }
 ],
 "metadata": {
  "kernelspec": {
   "display_name": "Python 3",
   "language": "python",
   "name": "python3"
  },
  "language_info": {
   "codemirror_mode": {
    "name": "ipython",
    "version": 3
   },
   "file_extension": ".py",
   "mimetype": "text/x-python",
   "name": "python",
   "nbconvert_exporter": "python",
   "pygments_lexer": "ipython3",
   "version": "3.7.3"
  }
 },
 "nbformat": 4,
 "nbformat_minor": 2
}
